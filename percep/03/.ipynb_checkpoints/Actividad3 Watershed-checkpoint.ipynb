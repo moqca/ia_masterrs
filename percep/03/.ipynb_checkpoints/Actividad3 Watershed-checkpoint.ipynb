{
 "cells": [
  {
   "cell_type": "markdown",
   "id": "38fa1031",
   "metadata": {},
   "source": [
    "# Pregunta 1 primero binarizar"
   ]
  },
  {
   "cell_type": "code",
   "execution_count": null,
   "id": "a3dfa89b",
   "metadata": {
    "scrolled": false
   },
   "outputs": [],
   "source": [
    "import numpy as np\n",
    "import cv2 as cv\n",
    "from matplotlib import pyplot as plt\n",
    "\n",
    "imagen='coins.jpg'\n",
    "img = cv.imread(imagen)\n",
    "gray = cv.cvtColor(img,cv.COLOR_BGR2GRAY)\n",
    "ret, thresh = cv.threshold(gray,0,255,cv.THRESH_BINARY_INV+cv.THRESH_OTSU)\n",
    "cv.imshow(\"binarizada\",thresh)\n",
    "cv.waitKey(0)\n",
    "cv.destroyAllWindows()\n"
   ]
  },
  {
   "cell_type": "markdown",
   "id": "8e80c3fd",
   "metadata": {},
   "source": [
    "# Pregunta 1, imagen resultante después de aplicar operadores morfológicos"
   ]
  },
  {
   "cell_type": "code",
   "execution_count": null,
   "id": "1e21b2ff",
   "metadata": {},
   "outputs": [],
   "source": [
    "kernel = np.ones((3,3),np.uint8)\n",
    "opening = cv.morphologyEx(thresh,cv.MORPH_OPEN,kernel, iterations = 2)\n",
    "sure_bg = cv.dilate(opening,kernel,iterations=3)\n",
    "cv.imshow(\"Operadores morfologicos\",sure_bg)\n",
    "cv.waitKey(0)\n",
    "cv.destroyAllWindows()\n"
   ]
  },
  {
   "cell_type": "raw",
   "id": "9c7c97e7",
   "metadata": {},
   "source": [
    "prueba la imagen aplicando operadores de erosión (cv.erode(....)"
   ]
  },
  {
   "cell_type": "markdown",
   "id": "86bea4ee",
   "metadata": {},
   "source": [
    "# Pregunta 2 y 3 transformada de distancia"
   ]
  },
  {
   "cell_type": "code",
   "execution_count": null,
   "id": "33d4351e",
   "metadata": {},
   "outputs": [],
   "source": [
    "dist_transform = cv.distanceTransform(opening,cv.DIST_L2,5)\n",
    "ret, sure_fg = cv.threshold(dist_transform,0.7*dist_transform.max(),255,0)\n",
    "sure_fg = np.uint8(sure_fg)\n",
    "cv.imshow(\"Distancias\",sure_fg)\n",
    "cv.waitKey(0)\n",
    "cv.destroyAllWindows()\n"
   ]
  },
  {
   "cell_type": "markdown",
   "id": "566ab588",
   "metadata": {},
   "source": [
    "# Pregunta 4 y 5"
   ]
  },
  {
   "cell_type": "code",
   "execution_count": null,
   "id": "f25d7a72",
   "metadata": {},
   "outputs": [],
   "source": [
    "unknown = cv.subtract(sure_bg,sure_fg)\n",
    "cv.imshow(\"Resta\",unknown)\n",
    "cv.waitKey(0)\n",
    "cv.destroyAllWindows()\n"
   ]
  },
  {
   "cell_type": "markdown",
   "id": "2e688935",
   "metadata": {},
   "source": [
    "# Pregunta6"
   ]
  },
  {
   "cell_type": "code",
   "execution_count": null,
   "id": "3e3be803",
   "metadata": {},
   "outputs": [],
   "source": [
    "ret, markers = cv.connectedComponents(sure_fg)\n",
    "print(\"lista de marcadores\",np.unique(markers))\n",
    "print(\"cantidad de etiquetas\",ret)\n",
    "\n",
    "markers = markers+1\n",
    "markers[unknown==255] = 0\n"
   ]
  },
  {
   "cell_type": "code",
   "execution_count": null,
   "id": "0f890cda",
   "metadata": {
    "scrolled": true
   },
   "outputs": [],
   "source": [
    "markers2 = cv.watershed(img,markers)\n",
    "img[markers2 == -1] = [255,0,0]\n",
    "cv.imshow(\"Watershed\",img)\n",
    "cv.waitKey(0)\n"
   ]
  },
  {
   "cell_type": "code",
   "execution_count": null,
   "id": "5fbd82ba",
   "metadata": {},
   "outputs": [],
   "source": [
    "label_hue = np.uint8(179*markers2/np.max(markers2))\n",
    "cv.imshow('Componentes finales', label_hue)\n",
    "cv.waitKey()\n",
    "blank_ch = 255*np.ones_like(label_hue)\n",
    "labeled_img = cv.merge([label_hue, blank_ch, blank_ch])\n",
    "labeled_img = cv.cvtColor(labeled_img, cv.COLOR_HSV2BGR)\n",
    "labeled_img[label_hue==0] = 0\n",
    "cv.imshow('Componentes finales', labeled_img)\n",
    "cv.waitKey()\n",
    "cv.destroyAllWindows()"
   ]
  }
 ],
 "metadata": {
  "kernelspec": {
   "display_name": "Python 3 (ipykernel)",
   "language": "python",
   "name": "python3"
  },
  "language_info": {
   "codemirror_mode": {
    "name": "ipython",
    "version": 3
   },
   "file_extension": ".py",
   "mimetype": "text/x-python",
   "name": "python",
   "nbconvert_exporter": "python",
   "pygments_lexer": "ipython3",
   "version": "3.10.4"
  }
 },
 "nbformat": 4,
 "nbformat_minor": 5
}
